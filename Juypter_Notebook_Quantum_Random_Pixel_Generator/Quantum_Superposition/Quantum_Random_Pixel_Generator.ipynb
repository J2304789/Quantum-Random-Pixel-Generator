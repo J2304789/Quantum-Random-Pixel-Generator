{
 "cells": [
  {
   "cell_type": "code",
   "execution_count": 1,
   "metadata": {},
   "outputs": [],
   "source": [
    "#Import Qiskit and Qiskit.Visualization\n",
    "import qiskit\n",
    "from qiskit import QuantumCircuit, assemble, Aer,execute\n",
    "from qiskit.visualization import plot_bloch_multivector\n",
    "from math import sqrt, pi\n",
    "#Create List for Superposition Pixel Generator\n",
    "from itertools import islice\n",
    "#Graph Superposition Pixel\n",
    "import turtle"
   ]
  },
  {
   "cell_type": "code",
   "execution_count": 2,
   "metadata": {},
   "outputs": [],
   "source": [
    "#Set Current Qiskit Backend to QASM Simulator \n",
    "#Switch if using IBM Quantum Computers\n",
    "sim=Aer.get_backend('qasm_simulator')"
   ]
  },
  {
   "cell_type": "code",
   "execution_count": 3,
   "metadata": {},
   "outputs": [],
   "source": [
    "#Intializes Quantum Circuit with 3 Qubits and 3 Classical Bits\n",
    "qc=QuantumCircuit(3,3)\n",
    "\n",
    "#Amount of times simulation is run\n",
    "sim_run=1"
   ]
  },
  {
   "cell_type": "code",
   "execution_count": 4,
   "metadata": {},
   "outputs": [],
   "source": [
    "#Sets every Qubit in superposition(|+> basis) using Hadamard Gate\n",
    "#50% chance of |0> and 50% chance of |1>\n",
    "for i in range(0,3):\n",
    "    qc.h(i)   \n"
   ]
  },
  {
   "cell_type": "code",
   "execution_count": 5,
   "metadata": {},
   "outputs": [
    {
     "data": {
      "text/plain": [
       "<qiskit.circuit.instructionset.InstructionSet at 0x1f77c8e6e80>"
      ]
     },
     "execution_count": 5,
     "metadata": {},
     "output_type": "execute_result"
    }
   ],
   "source": [
    "#Creates barrier between gates and measurements for qc.draw() and optimization level\n",
    "qc.barrier()"
   ]
  },
  {
   "cell_type": "code",
   "execution_count": 6,
   "metadata": {},
   "outputs": [],
   "source": [
    "#Run code to check Bloch spheres of Qubits in superposition(|+> basis)\n",
    "#qc.save_statevector()\n",
    "#qobj=assemble(qc)\n",
    "#result=sim.run(qobj).result().get_statevector()\n",
    "#plot_bloch_multivector(result)"
   ]
  },
  {
   "cell_type": "code",
   "execution_count": 7,
   "metadata": {},
   "outputs": [],
   "source": [
    "#Overwrites Classical bit values stored from Qubits 3-6 with values from measured Qubits 1-3\n",
    "for x in range(0,3):\n",
    "    qc.measure(x,x)"
   ]
  },
  {
   "cell_type": "code",
   "execution_count": 8,
   "metadata": {},
   "outputs": [
    {
     "data": {
      "image/png": "[encoded data removed]",
      "text/plain": [
       "<PIL.Image.Image image mode=RGB size=326x138>"
      ]
     },
     "execution_count": 8,
     "metadata": {},
     "output_type": "execute_result"
    }
   ],
   "source": [
    "#Draws Quantum Circuit\n",
    "qc.draw(output=\"latex\")"
   ]
  },
  {
   "cell_type": "code",
   "execution_count": 9,
   "metadata": {},
   "outputs": [],
   "source": [
    "#Function to convert Qubits to Base 10 and returns randomly generated number\n",
    "def Generate():\n",
    "    #memory=True to access indivual simulation qubit measurement values\n",
    "    job=execute(qc,sim,shots=sim_run,memory=True)\n",
    "    result=job.result()\n",
    "    counts=result.get_counts()\n",
    "    memory=result.get_memory()\n",
    "    \n",
    "    #Converts Qubits to Base 10\n",
    "    int_value=int(memory[0],2)\n",
    "    \n",
    "    #Check int_value throughout iterations\n",
    "    #print(int_value)\n",
    "    \n",
    "    return str(int_value)"
   ]
  },
  {
   "cell_type": "code",
   "execution_count": 10,
   "metadata": {},
   "outputs": [],
   "source": [
    "#Creates lists for iterations\n",
    "list_length=[]\n",
    "Generate_memory=[]\n",
    "for i in range (0,32):\n",
    "    list_length.append(32)\n",
    "    #Creates list of Randomly Generated Numbers\n",
    "    for j in range(0,32):\n",
    "        Generate_memory.append(Generate())\n",
    "\n",
    "#print(list_length)\n",
    "#print(len(list_length))\n",
    "#print(Generate_memory)"
   ]
  },
  {
   "cell_type": "code",
   "execution_count": 11,
   "metadata": {},
   "outputs": [],
   "source": [
    "#Create List for Superposition Pixel Generator\n",
    "Input = iter(Generate_memory)\n",
    "Quantum_Pixels = [list(islice(Input, x))\n",
    "          for x in list_length]\n",
    "\n",
    "#print(Quantum_Pixels)"
   ]
  },
  {
   "cell_type": "code",
   "execution_count": 12,
   "metadata": {},
   "outputs": [],
   "source": [
    "Zero=str(input(\"Enter Hexadecimal code or Specified Value of 0:\"))\n",
    "One=str(input(\"Enter Hexadecimal code or Specified Value of 1:\"))\n",
    "Two=str(input(\"Enter Hexadecimal code or Specified Value of 2:\"))\n",
    "Three=str(input(\"Enter Hexadecimal code or Specified Value of 3:\"))\n",
    "Four=str(input(\"Enter Hexadecimal code or Specified Value of 4:\"))\n",
    "Five=str(input(\"Enter Hexadecimal code or Specified Value of 5:\"))\n",
    "Six=str(input(\"Enter Hexadecimal code or Specified Value of 6:\"))\n",
    "Seven=str(input(\"Enter Hexadecimal code or Specified Value of 7:\"))"
   ]
  },
  {
   "cell_type": "code",
   "execution_count": 13,
   "metadata": {},
   "outputs": [],
   "source": [
    "#Start Draw and set Draw to immediate print\n",
    "Draw = turtle.Turtle()\n",
    "wn=turtle.Screen()\n",
    "wn.tracer(0)\n",
    "square_int = 30\t"
   ]
  },
  {
   "cell_type": "code",
   "execution_count": 14,
   "metadata": {},
   "outputs": [],
   "source": [
    "#Set Draw to top left corner of specified Print_Vertical and Print_Horizontal\n",
    "Draw.penup()\n",
    "Draw.forward(-480)\n",
    "Draw.setheading(90)\n",
    "Draw.forward(380)\n",
    "Draw.setheading(0)"
   ]
  },
  {
   "cell_type": "code",
   "execution_count": 15,
   "metadata": {},
   "outputs": [],
   "source": [
    "for x in range (0,len(Quantum_Pixels)):\n",
    "    for i in range (0,len(Quantum_Pixels[x])):\n",
    "        if Quantum_Pixels[x][i]==\"0\":\n",
    "\n",
    "            Draw.color(Zero)\n",
    "            Draw.begin_fill()\n",
    "            Draw.forward(square_int)\n",
    "\n",
    "            Draw.left(90)\n",
    "            Draw.forward(square_int)\n",
    "\n",
    "            Draw.left(90)\n",
    "            Draw.forward(square_int)\n",
    "\n",
    "            Draw.left(90)\n",
    "            Draw.forward(square_int)\n",
    "\n",
    "            Draw.end_fill()\n",
    "            Draw.setheading(0)\n",
    "\n",
    "        elif Quantum_Pixels[x][i]==\"1\":\n",
    "            Draw.color(One)\n",
    "            Draw.begin_fill()\n",
    "\n",
    "            Draw.forward(square_int)\n",
    "            \n",
    "            Draw.left(90)\n",
    "            Draw.forward(square_int)\n",
    "\n",
    "            Draw.left(90)\n",
    "            Draw.forward(square_int)\n",
    "\n",
    "            Draw.left(90)\n",
    "            Draw.forward(square_int)\n",
    "\n",
    "            Draw.end_fill()\n",
    "            Draw.setheading(0)\n",
    "\n",
    "        elif Quantum_Pixels[x][i]==\"2\":\n",
    "            Draw.color(Two)\n",
    "            Draw.begin_fill()\n",
    "\n",
    "            Draw.forward(square_int)\n",
    "            \n",
    "            Draw.left(90)\n",
    "            Draw.forward(square_int)\n",
    "\n",
    "            Draw.left(90)\n",
    "            Draw.forward(square_int)\n",
    "\n",
    "            Draw.left(90)\n",
    "            Draw.forward(square_int)\n",
    "\n",
    "            Draw.end_fill()\n",
    "            Draw.setheading(0)\n",
    "\n",
    "        elif Quantum_Pixels[x][i]==\"3\":\n",
    "            Draw.color(Three)\n",
    "            Draw.begin_fill()\n",
    "\n",
    "            Draw.forward(square_int)\n",
    "            \n",
    "            Draw.left(90)\n",
    "            Draw.forward(square_int)\n",
    "\n",
    "            Draw.left(90)\n",
    "            Draw.forward(square_int)\n",
    "\n",
    "            Draw.left(90)\n",
    "            Draw.forward(square_int)\n",
    "\n",
    "            Draw.end_fill()\n",
    "            Draw.setheading(0)\n",
    "\n",
    "        elif Quantum_Pixels[x][i]==\"4\":\n",
    "            Draw.color(Four)\n",
    "            Draw.begin_fill()\n",
    "\n",
    "            Draw.forward(square_int)\n",
    "            \n",
    "            Draw.left(90)\n",
    "            Draw.forward(square_int)\n",
    "\n",
    "            Draw.left(90)\n",
    "            Draw.forward(square_int)\n",
    "\n",
    "            Draw.left(90)\n",
    "            Draw.forward(square_int)\n",
    "\n",
    "            Draw.end_fill()\n",
    "            Draw.setheading(0)\n",
    "\n",
    "        elif Quantum_Pixels[x][i]==\"5\":\n",
    "            Draw.color(Five)\n",
    "            Draw.begin_fill()\n",
    "\n",
    "            Draw.forward(square_int)\n",
    "            \n",
    "            Draw.left(90)\n",
    "            Draw.forward(square_int)\n",
    "\n",
    "            Draw.left(90)\n",
    "            Draw.forward(square_int)\n",
    "\n",
    "            Draw.left(90)\n",
    "            Draw.forward(square_int)\n",
    "\n",
    "            Draw.end_fill()\n",
    "            Draw.setheading(0)\n",
    "\n",
    "        elif Quantum_Pixels[x][i]==\"6\":\n",
    "            Draw.color(Six)\n",
    "            Draw.begin_fill()\n",
    "\n",
    "            Draw.forward(square_int)\n",
    "            \n",
    "            Draw.left(90)\n",
    "            Draw.forward(square_int)\n",
    "\n",
    "            Draw.left(90)\n",
    "            Draw.forward(square_int)\n",
    "\n",
    "            Draw.left(90)\n",
    "            Draw.forward(square_int)\n",
    "\n",
    "            Draw.end_fill()\n",
    "            Draw.setheading(0)\n",
    "            \n",
    "        else:\n",
    "            Draw.color(Seven)\n",
    "            Draw.begin_fill()\n",
    "\n",
    "            Draw.forward(square_int)\n",
    "            \n",
    "            Draw.left(90)\n",
    "            Draw.forward(square_int)\n",
    "\n",
    "            Draw.left(90)\n",
    "            Draw.forward(square_int)\n",
    "\n",
    "            Draw.left(90)\n",
    "            Draw.forward(square_int)\n",
    "\n",
    "            Draw.end_fill()\n",
    "            Draw.setheading(0)\n",
    "\n",
    "        Draw.penup()\n",
    "        Draw.forward(square_int)\n",
    "        Draw.pendown()\n",
    "        \t\n",
    "    Draw.setheading(270) \n",
    "    Draw.penup()\n",
    "    Draw.forward(square_int)\n",
    "    Draw.setheading(180) \n",
    "    Draw.forward(square_int*len(Quantum_Pixels[x]))\n",
    "    Draw.setheading(0)\n",
    "    Draw.pendown()\n",
    "\t\n",
    "Draw.getscreen().update()\t\n",
    "turtle.done()"
   ]
  }
 ],
 "metadata": {
  "kernelspec": {
   "display_name": "Python 3.10.4 ('Qiskit')",
   "language": "python",
   "name": "python3"
  },
  "language_info": {
   "codemirror_mode": {
    "name": "ipython",
    "version": 3
   },
   "file_extension": ".py",
   "mimetype": "text/x-python",
   "name": "python",
   "nbconvert_exporter": "python",
   "pygments_lexer": "ipython3",
   "version": "3.10.4"
  },
  "orig_nbformat": 4,
  "vscode": {
   "interpreter": {
    "hash": "09240a276b16b6fde8f96eabb23ee62f2404dee27ecaaf4330ce2e4b5e24310a"
   }
  }
 },
 "nbformat": 4,
 "nbformat_minor": 2
}
